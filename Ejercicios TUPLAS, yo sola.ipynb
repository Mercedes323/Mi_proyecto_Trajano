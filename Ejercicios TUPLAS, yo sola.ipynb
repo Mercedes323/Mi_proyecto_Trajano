{
 "cells": [
  {
   "cell_type": "code",
   "execution_count": null,
   "id": "db59d981",
   "metadata": {},
   "outputs": [],
   "source": [
    "#Crea una tupla persona1 para juntar los siguientes datos: \n",
    "# 61 kg, 1.54 m altura, pelo marrón, sin usar paréntesis. \n",
    "# (Serán del tipo int, float y str.)"
   ]
  },
  {
   "cell_type": "code",
   "execution_count": 2,
   "id": "f764559c",
   "metadata": {},
   "outputs": [
    {
     "name": "stdout",
     "output_type": "stream",
     "text": [
      "(61, 1.54, 'pelo marrón')\n"
     ]
    }
   ],
   "source": [
    "persona1 = (61, 1.54, \"pelo marrón\")\n",
    "print(persona1)"
   ]
  },
  {
   "cell_type": "code",
   "execution_count": null,
   "id": "8cad0f93",
   "metadata": {},
   "outputs": [],
   "source": [
    "#Crea una tupla para la persona2 de 68 kg, 1.65 m y pelo rubio, usando paréntesis."
   ]
  },
  {
   "cell_type": "code",
   "execution_count": 3,
   "id": "601f9c12",
   "metadata": {},
   "outputs": [
    {
     "name": "stdout",
     "output_type": "stream",
     "text": [
      "(68, 1.65, 'pelo rubio')\n"
     ]
    }
   ],
   "source": [
    "persona2 = (68, 1.65, \"pelo rubio\")\n",
    "print(persona2)"
   ]
  },
  {
   "cell_type": "code",
   "execution_count": null,
   "id": "18d106d6",
   "metadata": {},
   "outputs": [],
   "source": [
    "#Crea una lista talla que recompila 'M', 42, y 39."
   ]
  },
  {
   "cell_type": "code",
   "execution_count": 7,
   "id": "d1787218",
   "metadata": {},
   "outputs": [
    {
     "name": "stdout",
     "output_type": "stream",
     "text": [
      "['M', '42', '39']\n"
     ]
    }
   ],
   "source": [
    "talla = [\"M\", \"42\", \"39\"]\n",
    "print(talla)\n"
   ]
  },
  {
   "cell_type": "code",
   "execution_count": null,
   "id": "f6880292",
   "metadata": {},
   "outputs": [],
   "source": [
    "#Convierte la lista talla a una tupla."
   ]
  },
  {
   "cell_type": "code",
   "execution_count": 8,
   "id": "ddf3dd97",
   "metadata": {},
   "outputs": [
    {
     "name": "stdout",
     "output_type": "stream",
     "text": [
      "('M', '42', '39')\n"
     ]
    }
   ],
   "source": [
    "talla_tupla = tuple(talla)\n",
    "print(talla_tupla)"
   ]
  },
  {
   "cell_type": "code",
   "execution_count": null,
   "id": "1b5ad39d",
   "metadata": {},
   "outputs": [],
   "source": [
    "#Une a la tupla de persona1 los datos en talla, para tener una única tupla."
   ]
  },
  {
   "cell_type": "code",
   "execution_count": 10,
   "id": "8db81a47",
   "metadata": {},
   "outputs": [
    {
     "name": "stdout",
     "output_type": "stream",
     "text": [
      "tuple[61, 1.54, 'pelo marrón']\n"
     ]
    }
   ],
   "source": [
    "persona1 = (61, 1.54, \"pelo marrón\")\n",
    "persona1_tupla = tuple[(61, 1.54, \"pelo marrón\")]\n",
    "print(persona1_tupla)"
   ]
  },
  {
   "cell_type": "code",
   "execution_count": null,
   "id": "784d324a",
   "metadata": {},
   "outputs": [],
   "source": [
    "#Saca de persona2 el contenido del tercer elemento y llámalo color."
   ]
  },
  {
   "cell_type": "code",
   "execution_count": 11,
   "id": "b841f9b1",
   "metadata": {},
   "outputs": [
    {
     "name": "stdout",
     "output_type": "stream",
     "text": [
      "pelo rubio\n"
     ]
    }
   ],
   "source": [
    "color = persona2[2]\n",
    "print(color)"
   ]
  },
  {
   "cell_type": "code",
   "execution_count": null,
   "id": "746381d9",
   "metadata": {},
   "outputs": [],
   "source": [
    "#¿Cuántos elementos hay ahora en persona1? (Es decir, ¿cuál es su longitud?)"
   ]
  },
  {
   "cell_type": "code",
   "execution_count": 12,
   "id": "834f0d87",
   "metadata": {},
   "outputs": [
    {
     "data": {
      "text/plain": [
       "3"
      ]
     },
     "execution_count": 12,
     "metadata": {},
     "output_type": "execute_result"
    }
   ],
   "source": [
    "len(persona1)"
   ]
  },
  {
   "cell_type": "code",
   "execution_count": null,
   "id": "e1e73446",
   "metadata": {},
   "outputs": [],
   "source": [
    "#Crea las variables peso, altura, color_pelo y llénalas con el contenido de persona1. \n",
    "# Imprime color_pelo para comprobar el resultado."
   ]
  },
  {
   "cell_type": "code",
   "execution_count": 17,
   "id": "857d921f",
   "metadata": {},
   "outputs": [
    {
     "name": "stdout",
     "output_type": "stream",
     "text": [
      "pelo marrón\n",
      "pelo marrón\n"
     ]
    }
   ],
   "source": [
    "peso, altura, color_pelo = persona1\n",
    "print(color_pelo)\n",
    "_, _, color_pelo = persona1\n",
    "print(color_pelo)"
   ]
  },
  {
   "cell_type": "code",
   "execution_count": null,
   "id": "8e31d25f",
   "metadata": {},
   "outputs": [],
   "source": [
    "#Crea el zip personas con persona1 y persona2."
   ]
  },
  {
   "cell_type": "code",
   "execution_count": 19,
   "id": "6714c951",
   "metadata": {},
   "outputs": [
    {
     "data": {
      "text/plain": [
       "[(61, 68), (1.54, 1.65), ('pelo marrón', 'pelo rubio')]"
      ]
     },
     "execution_count": 19,
     "metadata": {},
     "output_type": "execute_result"
    }
   ],
   "source": [
    "personas = zip(persona1, persona2)\n",
    "list(personas)"
   ]
  },
  {
   "cell_type": "code",
   "execution_count": null,
   "id": "ab1f2758",
   "metadata": {},
   "outputs": [],
   "source": [
    "#¿Cuántas \"elementos\" tiene personas? ¿Por qué?"
   ]
  },
  {
   "cell_type": "code",
   "execution_count": 20,
   "id": "5be16d4a",
   "metadata": {},
   "outputs": [
    {
     "name": "stdout",
     "output_type": "stream",
     "text": [
      "8\n"
     ]
    }
   ],
   "source": [
    "lista = len(\"personas\")\n",
    "print(lista)"
   ]
  },
  {
   "cell_type": "code",
   "execution_count": null,
   "id": "0359528c",
   "metadata": {},
   "outputs": [],
   "source": [
    "#Crea una tupla etiquetas con 'peso', 'altura', y 'color_pelo'."
   ]
  },
  {
   "cell_type": "code",
   "execution_count": 21,
   "id": "536d9536",
   "metadata": {},
   "outputs": [
    {
     "name": "stdout",
     "output_type": "stream",
     "text": [
      "['peso, altura, color_pelo']\n"
     ]
    }
   ],
   "source": [
    "tupla_etiquetas = [\"peso, altura, color_pelo\"]\n",
    "print(tupla_etiquetas)"
   ]
  },
  {
   "cell_type": "code",
   "execution_count": null,
   "id": "5f109f76",
   "metadata": {},
   "outputs": [],
   "source": [
    "#crea al zip de etiquetas, persona1, y persona2, llamado \"todo\"."
   ]
  },
  {
   "cell_type": "code",
   "execution_count": null,
   "id": "0ba0e671",
   "metadata": {},
   "outputs": [
    {
     "name": "stdout",
     "output_type": "stream",
     "text": [
      "[('peso', 61, 70), ('altura', 1.54, 1.75), ('color_pelo', 'pelo_marrón', 'pelo_rubio')]\n"
     ]
    }
   ],
   "source": [
    "etiquetas = (\"peso\", \"altura\", \"color_pelo\")\n",
    "persona1 = (61, 1.54, \"pelo_marrón\")\n",
    "persona2 = (70, 1.75,\"pelo_rubio\")\n",
    "todo = zip(etiquetas, persona1, persona2) #para imprimirlo hay que iterar sobre él, o\n",
    "#convertirlo en lista. Zip no crea inmediatamente una lista completa, sino un iterador. \n",
    "#un iterador genera los elementos sobre la marchas cuando los recorres, lo que ahorra memoria,\n",
    "#especialment si los datos son muy grandes. Una vez que recorres el iterador se agota, es mejor \n",
    "#en lista si quieres usar los datos varias veces.\n",
    "print(list(todo))"
   ]
  },
  {
   "cell_type": "code",
   "execution_count": null,
   "id": "54cc5497",
   "metadata": {},
   "outputs": [],
   "source": [
    "#Ordena las propiedades de la variable personas alfabéticamente. ¿Puedes? ¿Por qué?\n",
    "#Cada tupla tiene valores de distintos tipos: números(int, float) y cadenas (str). Python\n",
    "#no permite comparar directamente números con cadenas para ordenarlos."
   ]
  },
  {
   "cell_type": "code",
   "execution_count": 30,
   "id": "1e880a3e",
   "metadata": {},
   "outputs": [
    {
     "name": "stdout",
     "output_type": "stream",
     "text": [
      "[('altura', 1.54, 1.75), ('color_pelo', 'pelo_marrón', 'pelo_rubio'), ('peso', 61, 70)]\n"
     ]
    }
   ],
   "source": [
    "#No se puede porque hay números y cadenas (texto)\n",
    "#Se pueden organizar las etiquetas\n",
    "etiquetas = (\"peso\", \"altura\", \"color_pelo\")\n",
    "persona1 = (61, 1.54, \"pelo_marrón\")\n",
    "persona2 = (70, 1.75, \"pelo_rubio\")\n",
    "todo = list(zip(etiquetas, persona1, persona2))\n",
    "todo_ordenado = sorted(todo, key=lambda x: x[0])\n",
    "print(todo_ordenado)\n"
   ]
  },
  {
   "cell_type": "code",
   "execution_count": null,
   "id": "3b57ccff",
   "metadata": {},
   "outputs": [],
   "source": [
    "#accede al último dato de la tupla"
   ]
  },
  {
   "cell_type": "code",
   "execution_count": 31,
   "id": "3e19e36f",
   "metadata": {},
   "outputs": [
    {
     "name": "stdout",
     "output_type": "stream",
     "text": [
      "color_pelo\n"
     ]
    }
   ],
   "source": [
    "ultimo_dato = etiquetas[-1]\n",
    "print(ultimo_dato)"
   ]
  },
  {
   "cell_type": "code",
   "execution_count": null,
   "id": "342d262e",
   "metadata": {},
   "outputs": [],
   "source": [
    "#coge solo los dos primeros datos"
   ]
  },
  {
   "cell_type": "code",
   "execution_count": 32,
   "id": "d9783c02",
   "metadata": {},
   "outputs": [
    {
     "name": "stdout",
     "output_type": "stream",
     "text": [
      "('peso', 'altura')\n"
     ]
    }
   ],
   "source": [
    "primeros_dos = etiquetas[:2]\n",
    "print(primeros_dos)"
   ]
  },
  {
   "cell_type": "code",
   "execution_count": null,
   "id": "bef9bfa2",
   "metadata": {},
   "outputs": [],
   "source": [
    "#pregúntale si aparece \"María\""
   ]
  },
  {
   "cell_type": "code",
   "execution_count": 33,
   "id": "8d62459c",
   "metadata": {},
   "outputs": [
    {
     "name": "stdout",
     "output_type": "stream",
     "text": [
      "False\n"
     ]
    }
   ],
   "source": [
    "print(\"María\" in etiquetas)"
   ]
  },
  {
   "cell_type": "code",
   "execution_count": null,
   "id": "d277d092",
   "metadata": {},
   "outputs": [],
   "source": [
    "##Conviértelo en lista, añádele un valor y después conviértelo en tupla"
   ]
  },
  {
   "cell_type": "code",
   "execution_count": null,
   "id": "c6fef499",
   "metadata": {},
   "outputs": [
    {
     "name": "stdout",
     "output_type": "stream",
     "text": [
      "('peso', 'altura', 'color_pelo', 'color_de_ojos')\n"
     ]
    }
   ],
   "source": [
    "etiquetas = (\"peso\", \"altura\", \"color_pelo\")\n",
    "etiquetas_lista = list(etiquetas) #convertirla en lista\n",
    "etiquetas_lista.append(\"color_de_ojos\") #añadir un valor\n",
    "etiquetas = tuple(etiquetas_lista) #convertir en tupla\n",
    "print(etiquetas)\n"
   ]
  }
 ],
 "metadata": {
  "kernelspec": {
   "display_name": "base",
   "language": "python",
   "name": "python3"
  },
  "language_info": {
   "codemirror_mode": {
    "name": "ipython",
    "version": 3
   },
   "file_extension": ".py",
   "mimetype": "text/x-python",
   "name": "python",
   "nbconvert_exporter": "python",
   "pygments_lexer": "ipython3",
   "version": "3.13.5"
  }
 },
 "nbformat": 4,
 "nbformat_minor": 5
}
