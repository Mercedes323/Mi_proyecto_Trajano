{
 "cells": [
  {
   "cell_type": "code",
   "execution_count": null,
   "id": "ec7890e0",
   "metadata": {},
   "outputs": [],
   "source": [
    "#Haz una lista llamada colores donde almacenemos los primeros 6 colores que te vengan a la mente."
   ]
  },
  {
   "cell_type": "code",
   "execution_count": 5,
   "id": "f41b33f0",
   "metadata": {},
   "outputs": [
    {
     "name": "stdout",
     "output_type": "stream",
     "text": [
      "['blanco', 'naranja', 'rojo', 'verde', 'azul']\n"
     ]
    }
   ],
   "source": [
    "lista_colores = [\"blanco\",\"naranja\", \"rojo\", \"verde\", \"azul\"]\n",
    "print(lista_colores)"
   ]
  },
  {
   "cell_type": "code",
   "execution_count": null,
   "id": "c4b533fa",
   "metadata": {},
   "outputs": [],
   "source": [
    "#Haz una lista llamada buses de las líneas de autobuses que pasan por tu casa."
   ]
  },
  {
   "cell_type": "code",
   "execution_count": 6,
   "id": "64560a09",
   "metadata": {},
   "outputs": [
    {
     "name": "stdout",
     "output_type": "stream",
     "text": [
      "['122', '68', '37']\n"
     ]
    }
   ],
   "source": [
    "lineas_de_bus = [\"122\", \"68\", \"37\"]\n",
    "print(lineas_de_bus)"
   ]
  },
  {
   "cell_type": "code",
   "execution_count": 21,
   "id": "c1fdbc90",
   "metadata": {},
   "outputs": [
    {
     "name": "stdout",
     "output_type": "stream",
     "text": [
      "['24', '25', '28', '30', '32', '34', '35']\n"
     ]
    }
   ],
   "source": [
    "temperatura_semanal = [\"24\", \"25\", \"28\", \"30\", \"32\", \"34\", \"35\"]\n",
    "print(temperatura_semanal)"
   ]
  },
  {
   "cell_type": "code",
   "execution_count": null,
   "id": "e4ddf5f4",
   "metadata": {},
   "outputs": [],
   "source": [
    "#Convierte tu(s) nombre(s) a una lista nombres de caracteres."
   ]
  },
  {
   "cell_type": "code",
   "execution_count": 27,
   "id": "233575c1",
   "metadata": {},
   "outputs": [
    {
     "name": "stdout",
     "output_type": "stream",
     "text": [
      "['María']\n",
      "['M', 'a', 'r', 'í', 'a']\n"
     ]
    }
   ],
   "source": [
    "mi_nombre = [\"María\"]\n",
    "print(mi_nombre)\n",
    "mi_nombre = list(\"María\")\n",
    "print(mi_nombre)"
   ]
  },
  {
   "cell_type": "code",
   "execution_count": null,
   "id": "7ca01093",
   "metadata": {},
   "outputs": [],
   "source": [
    "#Convierte tu(s) apellido(s) a una lista apellidos de caracteres"
   ]
  },
  {
   "cell_type": "code",
   "execution_count": 17,
   "id": "a732ac7f",
   "metadata": {},
   "outputs": [
    {
     "name": "stdout",
     "output_type": "stream",
     "text": [
      "['G', 'o', 'n', 'z', 'a', 'l', 'e', 'z', ' ', 'C', 'o', 'u', 't', 'e', 'l', 'o']\n"
     ]
    }
   ],
   "source": [
    "apellidos = list(\"Gonzalez Coutelo\")\n",
    "print(apellidos)"
   ]
  },
  {
   "cell_type": "code",
   "execution_count": null,
   "id": "3d996f5c",
   "metadata": {},
   "outputs": [],
   "source": [
    "#Cuántos búses pasan por tu casa? puedo usar len() para contar los elementos de la lista"
   ]
  },
  {
   "cell_type": "code",
   "execution_count": 18,
   "id": "90333cb6",
   "metadata": {},
   "outputs": [
    {
     "name": "stdout",
     "output_type": "stream",
     "text": [
      "3\n"
     ]
    }
   ],
   "source": [
    "print(len(lineas_de_bus))"
   ]
  },
  {
   "cell_type": "code",
   "execution_count": null,
   "id": "ffcd3e2e",
   "metadata": {},
   "outputs": [],
   "source": [
    "#¿Cuántos caracteres hay en tu apellido(s) (inluyendo los espacios)?"
   ]
  },
  {
   "cell_type": "code",
   "execution_count": 20,
   "id": "3cf6baf0",
   "metadata": {},
   "outputs": [
    {
     "name": "stdout",
     "output_type": "stream",
     "text": [
      "16\n"
     ]
    }
   ],
   "source": [
    "print(len(apellidos))"
   ]
  },
  {
   "cell_type": "code",
   "execution_count": null,
   "id": "841bf774",
   "metadata": {},
   "outputs": [],
   "source": [
    "#Cuáles son las temperaturas máximas (t_max) y mínimas (t_min) para esta semana"
   ]
  },
  {
   "cell_type": "code",
   "execution_count": 26,
   "id": "26ff50aa",
   "metadata": {},
   "outputs": [
    {
     "name": "stdout",
     "output_type": "stream",
     "text": [
      "Máxima: 35\n",
      "Mínima: 24\n"
     ]
    }
   ],
   "source": [
    "temperatura_semanal = ['24', '25', '28', '30', '32', '34', '35']\n",
    "t_max = max(temperatura_semanal)\n",
    "t_min = min(temperatura_semanal)\n",
    "print(\"Máxima:\", t_max)\n",
    "print(\"Mínima:\", t_min)"
   ]
  },
  {
   "cell_type": "code",
   "execution_count": null,
   "id": "7feee05a",
   "metadata": {},
   "outputs": [],
   "source": [
    "#Hay una 'e' en tu nombre?"
   ]
  },
  {
   "cell_type": "code",
   "execution_count": null,
   "id": "c2b5d04f",
   "metadata": {},
   "outputs": [
    {
     "name": "stdout",
     "output_type": "stream",
     "text": [
      "False\n"
     ]
    }
   ],
   "source": [
    "\"e\" in \"Maria\" \n",
    "print(\"e\" in \"Maria\") #Devuelve un booleano"
   ]
  },
  {
   "cell_type": "code",
   "execution_count": null,
   "id": "9efee4d3",
   "metadata": {},
   "outputs": [],
   "source": [
    "#Tienes el color 'rosa' en la lista de colores"
   ]
  },
  {
   "cell_type": "code",
   "execution_count": 29,
   "id": "0dc80035",
   "metadata": {},
   "outputs": [
    {
     "name": "stdout",
     "output_type": "stream",
     "text": [
      "False\n"
     ]
    }
   ],
   "source": [
    "print(\"rosa\" in \"lista_colores\")"
   ]
  },
  {
   "cell_type": "code",
   "execution_count": null,
   "id": "fab0f658",
   "metadata": {},
   "outputs": [],
   "source": [
    "#Tiene una 'x' tu nombre? (Usa not in)"
   ]
  },
  {
   "cell_type": "code",
   "execution_count": 30,
   "id": "7b1be7e0",
   "metadata": {},
   "outputs": [
    {
     "name": "stdout",
     "output_type": "stream",
     "text": [
      "True\n"
     ]
    }
   ],
   "source": [
    "print(\"x\" not in \"mi_nombre\")"
   ]
  },
  {
   "cell_type": "code",
   "execution_count": null,
   "id": "0f3caba0",
   "metadata": {},
   "outputs": [],
   "source": [
    "#Copia el contenido de temperaturas a temperaturas2, y temperaturas3."
   ]
  },
  {
   "cell_type": "code",
   "execution_count": 33,
   "id": "6bfdad58",
   "metadata": {},
   "outputs": [
    {
     "name": "stdout",
     "output_type": "stream",
     "text": [
      "['24', '25', '28', '30', '32', '34', '35']\n",
      "['24', '25', '28', '30', '32', '34', '35']\n"
     ]
    }
   ],
   "source": [
    "temperatura_semanal = ['24', '25', '28', '30', '32', '34', '35']\n",
    "temperaturas2 = temperatura_semanal.copy()\n",
    "temperaturas3 = temperatura_semanal.copy()\n",
    "print(temperaturas2)\n",
    "print(temperaturas3)"
   ]
  },
  {
   "cell_type": "code",
   "execution_count": null,
   "id": "419b00f5",
   "metadata": {},
   "outputs": [],
   "source": [
    "#Vacía el contenido de la variable temperaturas2"
   ]
  },
  {
   "cell_type": "code",
   "execution_count": 37,
   "id": "6980b1a0",
   "metadata": {},
   "outputs": [
    {
     "name": "stdout",
     "output_type": "stream",
     "text": [
      "[]\n"
     ]
    }
   ],
   "source": [
    "temperaturas2 = ['24', '25', '28', '30', '32', '34', '35']\n",
    "temperaturas2.clear()\n",
    "print(temperaturas2)"
   ]
  },
  {
   "cell_type": "code",
   "execution_count": null,
   "id": "46117f3f",
   "metadata": {},
   "outputs": [],
   "source": [
    "#Imprime el contenido de temperaturas y temperaturas2."
   ]
  },
  {
   "cell_type": "code",
   "execution_count": 39,
   "id": "dcb80653",
   "metadata": {},
   "outputs": [
    {
     "name": "stdout",
     "output_type": "stream",
     "text": [
      "['24', '25', '28', '30', '32', '34', '35']\n",
      "[]\n"
     ]
    }
   ],
   "source": [
    "print(temperatura_semanal)\n",
    "print(temperaturas2)"
   ]
  },
  {
   "cell_type": "code",
   "execution_count": null,
   "id": "23b11d89",
   "metadata": {},
   "outputs": [],
   "source": [
    "#Copia el contenido de nombres a nombres2."
   ]
  },
  {
   "cell_type": "code",
   "execution_count": 46,
   "id": "fcfa8b89",
   "metadata": {},
   "outputs": [
    {
     "name": "stdout",
     "output_type": "stream",
     "text": [
      "['M', 'a', 'r', 'í', 'a']\n"
     ]
    }
   ],
   "source": [
    "nombre =['M', 'a', 'r', 'í', 'a'] \n",
    "nombre2 = mi_nombre.copy()\n",
    "print(nombre2)\n"
   ]
  },
  {
   "cell_type": "code",
   "execution_count": null,
   "id": "63c0a72d",
   "metadata": {},
   "outputs": [],
   "source": [
    "#Copia el contenido de apellidos a apellidos2."
   ]
  },
  {
   "cell_type": "code",
   "execution_count": 47,
   "id": "ad70ff11",
   "metadata": {},
   "outputs": [
    {
     "name": "stdout",
     "output_type": "stream",
     "text": [
      "['G', 'o', 'n', 'z', 'a', 'l', 'e', 'z', ' ', 'C', 'o', 'u', 't', 'e', 'l', 'o']\n"
     ]
    }
   ],
   "source": [
    "apellidos = list(\"Gonzalez Coutelo\")\n",
    "print(apellidos)"
   ]
  },
  {
   "cell_type": "code",
   "execution_count": 49,
   "id": "3163545f",
   "metadata": {},
   "outputs": [
    {
     "name": "stdout",
     "output_type": "stream",
     "text": [
      "['G', 'o', 'n', 'z', 'a', 'l', 'e', 'z', ' ', 'C', 'o', 'u', 't', 'e', 'l', 'o']\n"
     ]
    }
   ],
   "source": [
    "apellidos2 = apellidos.copy()\n",
    "print(apellidos2)"
   ]
  },
  {
   "cell_type": "code",
   "execution_count": null,
   "id": "bf15803b",
   "metadata": {},
   "outputs": [],
   "source": [
    "#ordena la variable temperaturas3 de mayor a menor"
   ]
  },
  {
   "cell_type": "code",
   "execution_count": 51,
   "id": "823644bb",
   "metadata": {},
   "outputs": [
    {
     "name": "stdout",
     "output_type": "stream",
     "text": [
      "['35', '34', '32', '30', '28', '25', '24']\n",
      "['24', '25', '28', '30', '32', '34', '35']\n"
     ]
    }
   ],
   "source": [
    "temperaturas3 = ['24', '25', '28', '30', '32', '34', '35']\n",
    "print(sorted(temperaturas3, reverse=True))\n",
    "print(sorted(temperaturas3, reverse=False))"
   ]
  },
  {
   "cell_type": "code",
   "execution_count": null,
   "id": "b82bff3c",
   "metadata": {},
   "outputs": [],
   "source": [
    "#Ordena la variable temperaturas3 de mayor a menor."
   ]
  },
  {
   "cell_type": "code",
   "execution_count": 53,
   "id": "c8b65c97",
   "metadata": {},
   "outputs": [
    {
     "name": "stdout",
     "output_type": "stream",
     "text": [
      "['35', '34', '32', '30', '28', '25', '24']\n"
     ]
    }
   ],
   "source": [
    "temperaturas3 = (sorted(temperaturas3, reverse=True))\n",
    "print(temperaturas3)"
   ]
  },
  {
   "cell_type": "code",
   "execution_count": null,
   "id": "949f0a58",
   "metadata": {},
   "outputs": [],
   "source": [
    "#Ordena los caracteres de tu nombre y  apellido en las listas nombres2 y apellidos2. \n",
    "# Imprime el resultado y investiga:\n",
    "#¿qué orden ha cogido? ¿Cómo trata las mayúsculas?"
   ]
  },
  {
   "cell_type": "code",
   "execution_count": null,
   "id": "b6cae41d",
   "metadata": {},
   "outputs": [],
   "source": []
  }
 ],
 "metadata": {
  "kernelspec": {
   "display_name": "base",
   "language": "python",
   "name": "python3"
  },
  "language_info": {
   "codemirror_mode": {
    "name": "ipython",
    "version": 3
   },
   "file_extension": ".py",
   "mimetype": "text/x-python",
   "name": "python",
   "nbconvert_exporter": "python",
   "pygments_lexer": "ipython3",
   "version": "3.13.5"
  }
 },
 "nbformat": 4,
 "nbformat_minor": 5
}
