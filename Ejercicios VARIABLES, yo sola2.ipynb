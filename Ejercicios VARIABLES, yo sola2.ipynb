{
 "cells": [
  {
   "cell_type": "code",
   "execution_count": null,
   "id": "7c9fbbf2",
   "metadata": {},
   "outputs": [],
   "source": [
    "#Crea la variable gatos que sea un número con el valor 8"
   ]
  },
  {
   "cell_type": "code",
   "execution_count": 24,
   "id": "d7d60c31",
   "metadata": {},
   "outputs": [
    {
     "name": "stdout",
     "output_type": "stream",
     "text": [
      "<class 'int'>\n"
     ]
    }
   ],
   "source": [
    "gatos = 8\n",
    "print(type(gatos))"
   ]
  },
  {
   "cell_type": "code",
   "execution_count": 2,
   "id": "a534a0a8",
   "metadata": {},
   "outputs": [],
   "source": [
    "#Crea la variable perros que sea un texto de seis caracteres: la palabra cuatro\n",
    "\n"
   ]
  },
  {
   "cell_type": "code",
   "execution_count": 3,
   "id": "4dd2dcf8",
   "metadata": {},
   "outputs": [],
   "source": [
    "perros = \"cuatro\""
   ]
  },
  {
   "cell_type": "code",
   "execution_count": 5,
   "id": "3fbca8cb",
   "metadata": {},
   "outputs": [
    {
     "name": "stdout",
     "output_type": "stream",
     "text": [
      "gatos\n"
     ]
    }
   ],
   "source": [
    "print(\"gatos\")"
   ]
  },
  {
   "cell_type": "code",
   "execution_count": 6,
   "id": "2c3ec51a",
   "metadata": {},
   "outputs": [
    {
     "name": "stdout",
     "output_type": "stream",
     "text": [
      "perros\n"
     ]
    }
   ],
   "source": [
    "print(\"perros\")"
   ]
  },
  {
   "cell_type": "code",
   "execution_count": 7,
   "id": "473816c9",
   "metadata": {},
   "outputs": [
    {
     "name": "stdout",
     "output_type": "stream",
     "text": [
      "perros más perros\n"
     ]
    }
   ],
   "source": [
    "print(\"perros\", \"más\", \"perros\")"
   ]
  },
  {
   "cell_type": "code",
   "execution_count": 14,
   "id": "949f63fc",
   "metadata": {},
   "outputs": [
    {
     "name": "stdout",
     "output_type": "stream",
     "text": [
      "cuatro mas cuatro es igual a 8\n"
     ]
    }
   ],
   "source": [
    "print(perros, \"mas\", perros, \"es igual a 8\")"
   ]
  },
  {
   "cell_type": "code",
   "execution_count": null,
   "id": "f171af8b",
   "metadata": {},
   "outputs": [],
   "source": [
    "#Define una variable pizzas con un valor 2 que sea del tipo float."
   ]
  },
  {
   "cell_type": "code",
   "execution_count": 15,
   "id": "2f448ae5",
   "metadata": {},
   "outputs": [],
   "source": [
    "pizzas = 2.0"
   ]
  },
  {
   "cell_type": "code",
   "execution_count": null,
   "id": "71d2fd11",
   "metadata": {},
   "outputs": [],
   "source": [
    "#define magdalenas con un valor 2 que sea del tipo string, dos maneras de hacerlo según chatgpt"
   ]
  },
  {
   "cell_type": "code",
   "execution_count": null,
   "id": "67eaa513",
   "metadata": {},
   "outputs": [],
   "source": [
    "magdalenas = \"2\"\n",
    "magdalenas = str(2)\n"
   ]
  },
  {
   "cell_type": "code",
   "execution_count": null,
   "id": "741c0501",
   "metadata": {},
   "outputs": [],
   "source": [
    "#para comprobar que es una variable de tipo string, str"
   ]
  },
  {
   "cell_type": "code",
   "execution_count": 18,
   "id": "a5ab00fe",
   "metadata": {},
   "outputs": [
    {
     "name": "stdout",
     "output_type": "stream",
     "text": [
      "<class 'str'>\n"
     ]
    }
   ],
   "source": [
    "magdalenas = \"2\"\n",
    "print(type(magdalenas))"
   ]
  },
  {
   "cell_type": "code",
   "execution_count": null,
   "id": "e5310b00",
   "metadata": {},
   "outputs": [],
   "source": [
    "#Define postres con un valor 0 que sea del tipo int. Por defecto los números enteros en Python son de tipo int, así que postres será un entero."
   ]
  },
  {
   "cell_type": "code",
   "execution_count": 19,
   "id": "96ccc5e4",
   "metadata": {},
   "outputs": [
    {
     "name": "stdout",
     "output_type": "stream",
     "text": [
      "<class 'int'>\n"
     ]
    }
   ],
   "source": [
    "postres = 0\n",
    "print(type(postres))"
   ]
  },
  {
   "cell_type": "code",
   "execution_count": 20,
   "id": "b159eb18",
   "metadata": {},
   "outputs": [
    {
     "name": "stdout",
     "output_type": "stream",
     "text": [
      "0.0\n",
      "<class 'float'>\n"
     ]
    }
   ],
   "source": [
    "#convirtiendolo a float\n",
    "postres = 0\n",
    "postres_float = float(postres)\n",
    "print(postres_float)\n",
    "print(type(postres_float))"
   ]
  },
  {
   "cell_type": "code",
   "execution_count": 21,
   "id": "9899441d",
   "metadata": {},
   "outputs": [
    {
     "name": "stdout",
     "output_type": "stream",
     "text": [
      "0\n",
      "<class 'str'>\n"
     ]
    }
   ],
   "source": [
    "#convirtiéndolo a string\n",
    "postres = 0\n",
    "postres_str = str(postres)\n",
    "print(postres_str)\n",
    "print(type(postres_str))\n"
   ]
  },
  {
   "cell_type": "code",
   "execution_count": 22,
   "id": "afdbe203",
   "metadata": {},
   "outputs": [
    {
     "name": "stdout",
     "output_type": "stream",
     "text": [
      "<class 'float'>\n"
     ]
    }
   ],
   "source": [
    "#¿Qué tipo de dato es la variable pizzas?\n",
    "pizzas = 2.0\n",
    "print(type(pizzas))"
   ]
  },
  {
   "cell_type": "code",
   "execution_count": null,
   "id": "e51a56f9",
   "metadata": {},
   "outputs": [],
   "source": [
    "#Define postres con un valor 0"
   ]
  },
  {
   "cell_type": "code",
   "execution_count": 23,
   "id": "a5a583f0",
   "metadata": {},
   "outputs": [],
   "source": [
    "postres = 0"
   ]
  },
  {
   "cell_type": "code",
   "execution_count": null,
   "id": "9b335ba4",
   "metadata": {},
   "outputs": [],
   "source": [
    "#Calcula la suma de gatos y pizzas."
   ]
  },
  {
   "cell_type": "code",
   "execution_count": 25,
   "id": "88b87f3a",
   "metadata": {},
   "outputs": [
    {
     "name": "stdout",
     "output_type": "stream",
     "text": [
      "10.0\n",
      "<class 'float'>\n"
     ]
    }
   ],
   "source": [
    "suma = gatos + pizzas\n",
    "print(suma)\n",
    "print(type(suma))"
   ]
  },
  {
   "cell_type": "code",
   "execution_count": null,
   "id": "e364fd01",
   "metadata": {},
   "outputs": [],
   "source": [
    "#El resultado es float porque el valor de pizzas es un decimal, 2.0"
   ]
  },
  {
   "cell_type": "code",
   "execution_count": 26,
   "id": "0f4bc65a",
   "metadata": {},
   "outputs": [
    {
     "name": "stdout",
     "output_type": "stream",
     "text": [
      "6.0\n",
      "<class 'float'>\n"
     ]
    }
   ],
   "source": [
    "diferencia = gatos - pizzas\n",
    "print(diferencia)\n",
    "print(type(diferencia))"
   ]
  },
  {
   "cell_type": "code",
   "execution_count": null,
   "id": "ec15f176",
   "metadata": {},
   "outputs": [],
   "source": [
    "#Multiplica las cantidad de gatos por 2"
   ]
  },
  {
   "cell_type": "code",
   "execution_count": 27,
   "id": "7eac71ac",
   "metadata": {},
   "outputs": [
    {
     "name": "stdout",
     "output_type": "stream",
     "text": [
      "16\n",
      "<class 'int'>\n"
     ]
    }
   ],
   "source": [
    "multiplica = gatos * 2\n",
    "print(multiplica)\n",
    "print(type(multiplica))"
   ]
  },
  {
   "cell_type": "code",
   "execution_count": null,
   "id": "5779a05d",
   "metadata": {},
   "outputs": [],
   "source": [
    "#Crea una variable piezas que sea 8 veces la cantidad de pizzas"
   ]
  },
  {
   "cell_type": "code",
   "execution_count": 28,
   "id": "438a9271",
   "metadata": {},
   "outputs": [
    {
     "name": "stdout",
     "output_type": "stream",
     "text": [
      "16.0\n"
     ]
    }
   ],
   "source": [
    "pizzas = 2.0\n",
    "piezas = 8 * pizzas\n",
    "print(piezas)"
   ]
  },
  {
   "cell_type": "code",
   "execution_count": null,
   "id": "f0ece999",
   "metadata": {},
   "outputs": [],
   "source": [
    "#haz que la cantidad de piezas se aumente en 3."
   ]
  },
  {
   "cell_type": "code",
   "execution_count": 30,
   "id": "130f5695",
   "metadata": {},
   "outputs": [
    {
     "name": "stdout",
     "output_type": "stream",
     "text": [
      "19\n",
      "19\n"
     ]
    }
   ],
   "source": [
    "piezas = 16\n",
    "suma = piezas + 3\n",
    "print(suma)\n",
    "piezas = piezas + 3\n",
    "print(piezas)"
   ]
  },
  {
   "cell_type": "code",
   "execution_count": null,
   "id": "96a90423",
   "metadata": {},
   "outputs": [],
   "source": [
    "#Calcula el cuadrado de 9 y guárdalo en una variable llamada superficie"
   ]
  },
  {
   "cell_type": "code",
   "execution_count": 32,
   "id": "94b7d1c7",
   "metadata": {},
   "outputs": [
    {
     "name": "stdout",
     "output_type": "stream",
     "text": [
      "81\n"
     ]
    }
   ],
   "source": [
    "superficie = 9** 2\n",
    "print(superficie)"
   ]
  },
  {
   "cell_type": "code",
   "execution_count": null,
   "id": "60668a99",
   "metadata": {},
   "outputs": [],
   "source": [
    "#Cuánta superficie hay por gato?"
   ]
  },
  {
   "cell_type": "code",
   "execution_count": 33,
   "id": "f7d8eabe",
   "metadata": {},
   "outputs": [
    {
     "name": "stdout",
     "output_type": "stream",
     "text": [
      "10.125\n"
     ]
    }
   ],
   "source": [
    "superficie = 81\n",
    "gatos = 8\n",
    "superficie_por_gatos = superficie / gatos\n",
    "print(superficie_por_gatos)"
   ]
  },
  {
   "cell_type": "code",
   "execution_count": null,
   "id": "4cab466a",
   "metadata": {},
   "outputs": [],
   "source": [
    "#Cuántas piezas enteras hay por gato?"
   ]
  },
  {
   "cell_type": "code",
   "execution_count": 35,
   "id": "27842bf1",
   "metadata": {},
   "outputs": [
    {
     "name": "stdout",
     "output_type": "stream",
     "text": [
      "2\n",
      "<class 'int'>\n"
     ]
    }
   ],
   "source": [
    "gato = 8\n",
    "piezas = 16\n",
    "piezas_por_gato = int(piezas) // gatos\n",
    "print(piezas_por_gato)\n",
    "print(type(piezas_por_gato))"
   ]
  },
  {
   "cell_type": "code",
   "execution_count": null,
   "id": "cb36af8e",
   "metadata": {},
   "outputs": [],
   "source": [
    "#Cuántas piezas te quedan si cada gato se come 21 piezas?"
   ]
  },
  {
   "cell_type": "code",
   "execution_count": 40,
   "id": "82801535",
   "metadata": {},
   "outputs": [
    {
     "name": "stdout",
     "output_type": "stream",
     "text": [
      "168\n",
      "128\n",
      "-40\n"
     ]
    }
   ],
   "source": [
    "gatos = 8\n",
    "piezas = 16\n",
    "piezas_por_gato = 8 * 21\n",
    "print(piezas_por_gato)\n",
    "hay = piezas * gatos\n",
    "print(hay)\n",
    "faltan = hay - piezas_por_gato\n",
    "print(faltan)\n"
   ]
  },
  {
   "cell_type": "code",
   "execution_count": null,
   "id": "2d333a70",
   "metadata": {},
   "outputs": [],
   "source": [
    "#Cuánta superficie hay por gato en metros cuadrados? Redondeala a un sólo decimal. Intenta calcularlo dentro del mismo print() en una sola línea."
   ]
  },
  {
   "cell_type": "code",
   "execution_count": 42,
   "id": "4eff5543",
   "metadata": {},
   "outputs": [
    {
     "name": "stdout",
     "output_type": "stream",
     "text": [
      "12.5\n",
      "12\n"
     ]
    }
   ],
   "source": [
    "gatos = 8\n",
    "superficie = 100\n",
    "superficie_por_gatos = 100 / 8\n",
    "print(superficie_por_gatos)\n",
    "print(round(superficie_por_gatos))"
   ]
  },
  {
   "cell_type": "code",
   "execution_count": null,
   "id": "16fe2ead",
   "metadata": {},
   "outputs": [],
   "source": [
    "#Es verdad que hay más gatos que pizzas?"
   ]
  },
  {
   "cell_type": "code",
   "execution_count": 43,
   "id": "8f4c4dd8",
   "metadata": {},
   "outputs": [
    {
     "name": "stdout",
     "output_type": "stream",
     "text": [
      "True\n"
     ]
    }
   ],
   "source": [
    "print(gatos > pizzas)"
   ]
  },
  {
   "cell_type": "code",
   "execution_count": null,
   "id": "abda1f43",
   "metadata": {},
   "outputs": [],
   "source": [
    "#Es verdad que hay menos gatos que superficie?"
   ]
  },
  {
   "cell_type": "code",
   "execution_count": 44,
   "id": "ae6ec4a5",
   "metadata": {},
   "outputs": [
    {
     "name": "stdout",
     "output_type": "stream",
     "text": [
      "True\n"
     ]
    }
   ],
   "source": [
    "print(gatos < superficie)"
   ]
  },
  {
   "cell_type": "code",
   "execution_count": null,
   "id": "d8acfa80",
   "metadata": {},
   "outputs": [],
   "source": [
    "#Es verdad que 2 veces la cantidad de pizzas es distinto de la cantidad de gatos"
   ]
  },
  {
   "cell_type": "code",
   "execution_count": 45,
   "id": "c622b26e",
   "metadata": {},
   "outputs": [
    {
     "name": "stdout",
     "output_type": "stream",
     "text": [
      "True\n"
     ]
    }
   ],
   "source": [
    "verdad = pizzas * 2 != gatos\n",
    "print(verdad)"
   ]
  },
  {
   "cell_type": "code",
   "execution_count": null,
   "id": "968839d3",
   "metadata": {},
   "outputs": [],
   "source": [
    "#Es falso que 2 veces la cantidad de pizzas es igual a la cantidad de gatos"
   ]
  },
  {
   "cell_type": "code",
   "execution_count": 48,
   "id": "dbdc792b",
   "metadata": {},
   "outputs": [
    {
     "name": "stdout",
     "output_type": "stream",
     "text": [
      "True\n"
     ]
    }
   ],
   "source": [
    "print(pizzas * 2 != gatos)"
   ]
  },
  {
   "cell_type": "code",
   "execution_count": null,
   "id": "935469b4",
   "metadata": {},
   "outputs": [],
   "source": [
    "#La variable piezas, es mayor o igual a pizzas y superficie es distinto de cero"
   ]
  },
  {
   "cell_type": "code",
   "execution_count": 50,
   "id": "10346198",
   "metadata": {},
   "outputs": [
    {
     "name": "stdout",
     "output_type": "stream",
     "text": [
      "True True\n"
     ]
    }
   ],
   "source": [
    "print(piezas >= pizzas, superficie != 0)\n"
   ]
  },
  {
   "cell_type": "code",
   "execution_count": null,
   "id": "1c84203c",
   "metadata": {},
   "outputs": [],
   "source": [
    "#La variable piezas, es mayor o igual a pizzas y menor que superficie"
   ]
  },
  {
   "cell_type": "code",
   "execution_count": 55,
   "id": "0230f7b2",
   "metadata": {},
   "outputs": [
    {
     "name": "stdout",
     "output_type": "stream",
     "text": [
      "True True\n",
      "True\n"
     ]
    },
    {
     "data": {
      "text/plain": [
       "(None, True)"
      ]
     },
     "execution_count": 55,
     "metadata": {},
     "output_type": "execute_result"
    }
   ],
   "source": [
    "print(piezas >= pizzas, piezas < superficie)\n",
    "print(piezas >= pizzas), (piezas < superficie)"
   ]
  },
  {
   "cell_type": "code",
   "execution_count": null,
   "id": "7572a17f",
   "metadata": {},
   "outputs": [],
   "source": [
    "#Me interesa saber si hay más pizzas que gatos, o si el residuo de piezas por gato es cero"
   ]
  },
  {
   "cell_type": "code",
   "execution_count": 57,
   "id": "1da30ae0",
   "metadata": {},
   "outputs": [
    {
     "name": "stdout",
     "output_type": "stream",
     "text": [
      "False True\n"
     ]
    }
   ],
   "source": [
    "print(pizzas > gatos, piezas % gatos ==0)"
   ]
  },
  {
   "cell_type": "code",
   "execution_count": null,
   "id": "000d26b3",
   "metadata": {},
   "outputs": [],
   "source": [
    "#Comprueba las comparaciones de 29. en una sola línea, sin usar la variable piezas más que una sola vez."
   ]
  },
  {
   "cell_type": "code",
   "execution_count": null,
   "id": "9d8ada4b",
   "metadata": {},
   "outputs": [
    {
     "name": "stdout",
     "output_type": "stream",
     "text": [
      "True\n"
     ]
    }
   ],
   "source": [
    "print(pizzas <= piezas < superficie) #para no repetir una palabra uasamos la comparación encadenada de Python"
   ]
  },
  {
   "cell_type": "code",
   "execution_count": null,
   "id": "e2e43463",
   "metadata": {},
   "outputs": [],
   "source": [
    "#Comprueba si superficie es diferente a cero sin usar !=."
   ]
  },
  {
   "cell_type": "code",
   "execution_count": 62,
   "id": "627a625c",
   "metadata": {},
   "outputs": [
    {
     "name": "stdout",
     "output_type": "stream",
     "text": [
      "100\n"
     ]
    }
   ],
   "source": [
    "print(superficie)"
   ]
  },
  {
   "cell_type": "code",
   "execution_count": 64,
   "id": "e7868910",
   "metadata": {},
   "outputs": [
    {
     "name": "stdout",
     "output_type": "stream",
     "text": [
      "True False\n",
      "False\n"
     ]
    }
   ],
   "source": [
    "print(superficie > 0, superficie < 0)\n",
    "print(superficie == 0)"
   ]
  },
  {
   "cell_type": "code",
   "execution_count": null,
   "id": "11a6a296",
   "metadata": {},
   "outputs": [],
   "source": [
    "#Usa input() para preguntar a un usuario el día de su cumpleaños y guarda la respuesta en la variable dia_cumple."
   ]
  },
  {
   "cell_type": "code",
   "execution_count": 67,
   "id": "6c9b5a79",
   "metadata": {},
   "outputs": [
    {
     "name": "stdout",
     "output_type": "stream",
     "text": [
      "Has introducido el día: 12\n"
     ]
    }
   ],
   "source": [
    "día_cumple = input(\"¿Qué día del mes es tu cumpleaños?\")\n",
    "print(\"Has introducido el día:\", día_cumple)"
   ]
  },
  {
   "cell_type": "code",
   "execution_count": null,
   "id": "4f1ac977",
   "metadata": {},
   "outputs": [],
   "source": [
    "#Usa input() para preguntar a un usuario el mes de su cumpleaños y guarda la respuesta en la variable mes_cumple.\n"
   ]
  },
  {
   "cell_type": "code",
   "execution_count": 70,
   "id": "f843d29d",
   "metadata": {},
   "outputs": [
    {
     "name": "stdout",
     "output_type": "stream",
     "text": [
      "enero\n"
     ]
    }
   ],
   "source": [
    "mes_cumple = input(\"¿En qué mes es tu cumpleaños?\")\n",
    "print(mes_cumple)"
   ]
  },
  {
   "cell_type": "code",
   "execution_count": null,
   "id": "46faf411",
   "metadata": {},
   "outputs": [],
   "source": [
    "#Usa .strip() en ambas de las variables definidas."
   ]
  },
  {
   "cell_type": "code",
   "execution_count": 71,
   "id": "40423d7b",
   "metadata": {},
   "outputs": [
    {
     "name": "stdout",
     "output_type": "stream",
     "text": [
      "12\n",
      "enero\n"
     ]
    }
   ],
   "source": [
    "día_cumple = input(\"¿Qué día del mes es tu cumpleaños?\").strip()\n",
    "mes_cumple = input(\"¿En qué mes es tu cumpleaños?\").strip()\n",
    "print(día_cumple)\n",
    "print(mes_cumple)"
   ]
  },
  {
   "cell_type": "code",
   "execution_count": null,
   "id": "5c56da12",
   "metadata": {},
   "outputs": [],
   "source": [
    "#Haz que fecha_cumple sea un string compuesto por el día y el mes."
   ]
  },
  {
   "cell_type": "markdown",
   "id": "97aa39b3",
   "metadata": {},
   "source": [
    "día_cumple = input(\"¿Qué día del mes es tu cumpleaños?\").strip()\n",
    "mes_cumple = input(\"¿En qué mes es tu cumpleaños?\").strip()\n",
    "fecha_cumple = día_cumple + mes_cumple\n",
    "print(\"Tu fecha de cumpleaños es:\", fecha_cumple)"
   ]
  },
  {
   "cell_type": "code",
   "execution_count": null,
   "id": "48088b2e",
   "metadata": {},
   "outputs": [],
   "source": [
    "#Imprime Fecha de cumpleaños es más el día y el mes."
   ]
  },
  {
   "cell_type": "code",
   "execution_count": 74,
   "id": "f87b4336",
   "metadata": {},
   "outputs": [
    {
     "name": "stdout",
     "output_type": "stream",
     "text": [
      "Fecha de cumpleaños es12deenero\n"
     ]
    }
   ],
   "source": [
    "día_cumple = input(\"¿Qué día del mes es tu cumpleaños?\").strip()\n",
    "mes_cumple = input(\"¿En qué mes es tu cumpleaños?\").strip()\n",
    "fecha_cumple = \"Fecha de cumpleaños es\" + día_cumple + \"de\" + mes_cumple\n",
    "print(fecha_cumple)"
   ]
  },
  {
   "cell_type": "code",
   "execution_count": null,
   "id": "7da1a407",
   "metadata": {},
   "outputs": [],
   "source": [
    "#mprime la variable perros en todas mayúsculas"
   ]
  },
  {
   "cell_type": "code",
   "execution_count": 75,
   "id": "24b33c7d",
   "metadata": {},
   "outputs": [
    {
     "name": "stdout",
     "output_type": "stream",
     "text": [
      "CUATRO\n"
     ]
    }
   ],
   "source": [
    "perros = perros.upper()\n",
    "print(perros)"
   ]
  },
  {
   "cell_type": "code",
   "execution_count": null,
   "id": "20fda19b",
   "metadata": {},
   "outputs": [],
   "source": [
    "#Fin ejercicio"
   ]
  }
 ],
 "metadata": {
  "kernelspec": {
   "display_name": "base",
   "language": "python",
   "name": "python3"
  },
  "language_info": {
   "codemirror_mode": {
    "name": "ipython",
    "version": 3
   },
   "file_extension": ".py",
   "mimetype": "text/x-python",
   "name": "python",
   "nbconvert_exporter": "python",
   "pygments_lexer": "ipython3",
   "version": "3.13.5"
  }
 },
 "nbformat": 4,
 "nbformat_minor": 5
}
