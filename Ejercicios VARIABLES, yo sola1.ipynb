{
 "cells": [
  {
   "cell_type": "code",
   "execution_count": 2,
   "id": "831ff3d8",
   "metadata": {},
   "outputs": [],
   "source": [
    "#Crea tres variables numéricas de tipo integer (entero), llamadas de la siguiente forma:\n",
    "#numero1numero2numero3\n",
    "#Utilizando los operadores lógicos:\n",
    "#¿En vuestro caso, es el numero1 mayor que el numero2?\n",
    "#¿Es el numero1 menor que el numero2 pero mayor que el numero3?\n",
    "# ¿Es el numero3 igual que el numero2\n",
    "#¿Es el numero2 distinto que el numero1?"
   ]
  },
  {
   "cell_type": "code",
   "execution_count": 1,
   "id": "1da8ac19",
   "metadata": {},
   "outputs": [
    {
     "name": "stdout",
     "output_type": "stream",
     "text": [
      "False\n",
      "False\n",
      "False\n",
      "True\n"
     ]
    }
   ],
   "source": [
    "numero1 = 2\n",
    "numero2 = 4\n",
    "numero3 = 6\n",
    "print(numero1 > numero2)\n",
    "print(numero1 <numero2 and numero1 > numero3)\n",
    "print(numero3 == numero2)\n",
    "print(numero2 != numero1)"
   ]
  },
  {
   "cell_type": "code",
   "execution_count": null,
   "id": "ee21068a",
   "metadata": {},
   "outputs": [],
   "source": [
    "#Crea dos variables numéricas de tipo float (decimal) con dos decimales, llámalas de la siguiente forma:\n",
    "#altura1\n",
    "#altura2 Utilizando los operadores matemáticos aprendidos en la lección:\n",
    "#Cuál es la suma de las dos alturas\n",
    "#Cuál es la diferencia entre las alturas\n",
    "#Cuál es el resto de la división de las dos alturas\n",
    "#Cuál es resultado de la división de las dos alturas, redondead el resultado a un decimal."
   ]
  },
  {
   "cell_type": "code",
   "execution_count": 8,
   "id": "28e23666",
   "metadata": {},
   "outputs": [
    {
     "name": "stdout",
     "output_type": "stream",
     "text": [
      "3.55\n",
      "-0.050000000000000044\n",
      "1.75\n",
      "1.0\n"
     ]
    }
   ],
   "source": [
    "altura1 = 1.75\n",
    "altura2 = 1.80\n",
    "print(altura1 + altura2)\n",
    "print(altura1 - altura2,)\n",
    "print(altura1 % altura2)\n",
    "print(round(altura1 / altura2,1))"
   ]
  },
  {
   "cell_type": "code",
   "execution_count": null,
   "id": "2b9db524",
   "metadata": {},
   "outputs": [],
   "source": [
    "#Escribe un programa usando la función input() que le pregunte al usuario su nombre y apellidos. Una vez que tengamos el nombre del usuario:\n",
    "#Imprime su nombre y apellidos todo en mayúsculas\n",
    "#Imprime su nombre y apellidos todo en minúsculas\n",
    "#Imprime su nombre y apellidos con la primera letra del nombre y los apellidos en mayúscula y el resto en minúscula.\n",
    "#Imprime solo la primera letra del nombre en mayúscula."
   ]
  },
  {
   "cell_type": "code",
   "execution_count": 23,
   "id": "ec77f83d",
   "metadata": {},
   "outputs": [
    {
     "name": "stdout",
     "output_type": "stream",
     "text": [
      "JUAN PÉREZ\n",
      "juan pérez\n",
      "Juan Pérez\n",
      "Juan pérez\n"
     ]
    }
   ],
   "source": [
    "nombre_usuario = input(\"Por favor, introduce tu nombre y apellidos: \")\n",
    "print(nombre_usuario.upper())\n",
    "print(nombre_usuario.lower())\n",
    "print(nombre_usuario.title())\n",
    "print(nombre_usuario.capitalize())"
   ]
  },
  {
   "cell_type": "code",
   "execution_count": null,
   "id": "589adb0e",
   "metadata": {},
   "outputs": [],
   "source": [
    "#Escribe un programa usando la función input() que:\n",
    "#Le pregunte al usuario por una frase, almacenad este resultado en una variable.\n",
    "#Le pregunte al usuario por una vocal, almacenad este resultado en una variable.\n",
    "#Imprime la misma frase pero con la vocal introducida en mayúsculas."
   ]
  },
  {
   "cell_type": "code",
   "execution_count": null,
   "id": "ff98e2dd",
   "metadata": {},
   "outputs": [
    {
     "name": "stdout",
     "output_type": "stream",
     "text": [
      "me gustA progrAmAr\n"
     ]
    }
   ],
   "source": [
    "frase = input(\"Introduce una frase: \")# almaceno la frase en una variable. \n",
    "vocal = input(\"Introduce una vocal: \")\n",
    "frase_modificada = frase.replace(vocal, vocal.upper())\n",
    "print(frase_modificada)\n",
    "\n"
   ]
  },
  {
   "cell_type": "code",
   "execution_count": null,
   "id": "0a27266e",
   "metadata": {},
   "outputs": [],
   "source": [
    "#Crea un programa que realice los siguientes pasos:\n",
    "#Solicite al usuario que introduzca su lista de la compra en una sola línea, separando cada elemento por comas.\n",
    "#Ejemplo de entrada: leche, pan, huevos, fruta.\n",
    "#Convierte la entrada del usuario en una lista donde cada elemento sea un ítem de la compra.\n",
    "#Muestra cada ítem de la lista en una nueva línea."
   ]
  },
  {
   "cell_type": "code",
   "execution_count": 5,
   "id": "19d8c1a0",
   "metadata": {},
   "outputs": [
    {
     "name": "stdout",
     "output_type": "stream",
     "text": [
      "leche\n",
      "pan\n",
      "detergente\n",
      "fruta\n",
      "huevos\n"
     ]
    }
   ],
   "source": [
    "lista_compra = input(\"leche, pan, detergente, fruta, huevos:\"  )\n",
    "lista_compra = lista_compra.split(\", \")\n",
    "for item in lista_compra:\n",
    "    print(item)"
   ]
  },
  {
   "cell_type": "code",
   "execution_count": null,
   "id": "ceec8101",
   "metadata": {},
   "outputs": [],
   "source": [
    "#Fin del ejercicio"
   ]
  }
 ],
 "metadata": {
  "kernelspec": {
   "display_name": "base",
   "language": "python",
   "name": "python3"
  },
  "language_info": {
   "codemirror_mode": {
    "name": "ipython",
    "version": 3
   },
   "file_extension": ".py",
   "mimetype": "text/x-python",
   "name": "python",
   "nbconvert_exporter": "python",
   "pygments_lexer": "ipython3",
   "version": "3.13.5"
  }
 },
 "nbformat": 4,
 "nbformat_minor": 5
}
